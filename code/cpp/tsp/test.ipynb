{
 "cells": [
  {
   "cell_type": "code",
   "execution_count": 1,
   "metadata": {},
   "outputs": [],
   "source": [
    "import libtspenvv2o3 as libtsp\n",
    "from pathlib import Path\n",
    "from pprint import pprint\n",
    "import numpy as np"
   ]
  },
  {
   "cell_type": "code",
   "execution_count": 2,
   "metadata": {},
   "outputs": [],
   "source": [
    "blob = list(Path('.').rglob('tsp*15*.dat'))[0].read_text()\n",
    "lines = list(blob.strip().split('\\n'))\n",
    "\n",
    "n_objs = int(lines[0].strip())\n",
    "n_vars = int(lines[1].strip())\n",
    "objs = []\n",
    "_objs = []\n",
    "count = 0\n",
    "for line in lines[2:]:\n",
    "    _objs.append(list(map(int, line.strip().split(\" \"))))\n",
    "    count += 1\n",
    "    \n",
    "    if count == n_vars:\n",
    "        objs.append(_objs)\n",
    "        _objs = []\n",
    "        count = 0"
   ]
  },
  {
   "cell_type": "code",
   "execution_count": 3,
   "metadata": {},
   "outputs": [
    {
     "name": "stdout",
     "output_type": "stream",
     "text": [
      "Layer 1\n",
      "Layer 2\n",
      "Layer 3\n",
      "Layer 4\n",
      "Layer 5\n",
      "Layer 6\n",
      "Layer 7\n",
      "Layer 8\n",
      "Layer 9\n",
      "Layer 10\n",
      "Layer 11\n",
      "Layer 12\n",
      "Layer 13\n",
      "Layer 14\n",
      "Layer topdown: 0 - layer bottomup: 16\n",
      "Layer topdown: 1 - layer bottomup: 16\n",
      "Layer topdown: 1 - layer bottomup: 15\n",
      "Layer topdown: 2 - layer bottomup: 15\n",
      "Layer topdown: 3 - layer bottomup: 15\n",
      "Layer topdown: 3 - layer bottomup: 14\n",
      "Layer topdown: 4 - layer bottomup: 14\n",
      "Layer topdown: 4 - layer bottomup: 13\n",
      "Layer topdown: 5 - layer bottomup: 13\n",
      "Layer topdown: 5 - layer bottomup: 12\n",
      "Layer topdown: 6 - layer bottomup: 12\n",
      "Layer topdown: 6 - layer bottomup: 11\n",
      "Layer topdown: 7 - layer bottomup: 11\n",
      "Layer topdown: 7 - layer bottomup: 10\n",
      "Layer topdown: 8 - layer bottomup: 10\n",
      "Layer topdown: 8 - layer bottomup: 9\n",
      "Coupling layer : 9\n"
     ]
    },
    {
     "data": {
      "text/plain": [
       "0"
      ]
     },
     "execution_count": 3,
     "metadata": {},
     "output_type": "execute_result"
    }
   ],
   "source": [
    "env = libtsp.TSPEnv()\n",
    "env.reset(3)\n",
    "env.set_inst(n_vars, n_objs, objs)\n",
    "env.initialize_dd_constructor()\n",
    "env.generate_dd()\n",
    "env.compute_pareto_frontier()"
   ]
  },
  {
   "cell_type": "code",
   "execution_count": 4,
   "metadata": {},
   "outputs": [],
   "source": [
    "frontier = env.get_frontier()\n",
    "dd = env.get_dd()"
   ]
  },
  {
   "cell_type": "code",
   "execution_count": 5,
   "metadata": {},
   "outputs": [
    {
     "name": "stdout",
     "output_type": "stream",
     "text": [
      "0 1\n",
      "1 14\n",
      "2 182\n",
      "3 1092\n",
      "4 4004\n",
      "5 10010\n",
      "6 18018\n",
      "7 24024\n",
      "8 24024\n",
      "9 18018\n",
      "10 10010\n",
      "11 4004\n",
      "12 1092\n",
      "13 182\n",
      "14 14\n"
     ]
    }
   ],
   "source": [
    "for i, l in enumerate(dd):\n",
    "    print(i, len(l))"
   ]
  },
  {
   "cell_type": "code",
   "execution_count": 6,
   "metadata": {},
   "outputs": [],
   "source": [
    "X = frontier['x']\n",
    "X = np.array(X)\n"
   ]
  },
  {
   "cell_type": "code",
   "execution_count": 7,
   "metadata": {},
   "outputs": [],
   "source": [
    "X = X[:, 1:]"
   ]
  },
  {
   "cell_type": "code",
   "execution_count": 19,
   "metadata": {},
   "outputs": [],
   "source": [
    "n_pareto_sol = X.shape[0]"
   ]
  },
  {
   "cell_type": "code",
   "execution_count": 21,
   "metadata": {},
   "outputs": [
    {
     "name": "stdout",
     "output_type": "stream",
     "text": [
      "States: 1, Pareto: 1, Critical: 0, Frac/Pareto: 1.0000, Frac/Critical: 0.000000\n",
      "States: 14, Pareto: 11, Critical: 0, Frac/Pareto: 0.7857, Frac/Critical: 0.000000\n",
      "States: 182, Pareto: 41, Critical: 0, Frac/Pareto: 0.2253, Frac/Critical: 0.000000\n",
      "States: 1092, Pareto: 69, Critical: 0, Frac/Pareto: 0.0632, Frac/Critical: 0.000000\n",
      "States: 4004, Pareto: 95, Critical: 0, Frac/Pareto: 0.0237, Frac/Critical: 0.000000\n",
      "States: 10010, Pareto: 112, Critical: 0, Frac/Pareto: 0.0112, Frac/Critical: 0.000000\n",
      "States: 18018, Pareto: 143, Critical: 0, Frac/Pareto: 0.0079, Frac/Critical: 0.000000\n",
      "States: 24024, Pareto: 164, Critical: 0, Frac/Pareto: 0.0068, Frac/Critical: 0.000000\n",
      "States: 24024, Pareto: 216, Critical: 0, Frac/Pareto: 0.0090, Frac/Critical: 0.000000\n",
      "States: 18018, Pareto: 225, Critical: 0, Frac/Pareto: 0.0125, Frac/Critical: 0.000000\n",
      "States: 10010, Pareto: 207, Critical: 0, Frac/Pareto: 0.0207, Frac/Critical: 0.000000\n",
      "States: 4004, Pareto: 166, Critical: 0, Frac/Pareto: 0.0415, Frac/Critical: 0.000000\n",
      "States: 1092, Pareto: 123, Critical: 0, Frac/Pareto: 0.1126, Frac/Critical: 0.000000\n",
      "States: 182, Pareto: 74, Critical: 0, Frac/Pareto: 0.4066, Frac/Critical: 0.000000\n",
      "States: 14, Pareto: 14, Critical: 0, Frac/Pareto: 1.0000, Frac/Critical: 0.000000\n"
     ]
    }
   ],
   "source": [
    "n_pareto = 0\n",
    "n_nodes = 0\n",
    "for i in range(1, X.shape[1]+1):\n",
    "    X_ = X[:, :i]\n",
    "    states = np.zeros((X.shape[0], 15))\n",
    "    ind = np.arange(states.shape[0])\n",
    "    for j in range(X_.shape[1]):\n",
    "        states[ind, X_[:, j]] = 1\n",
    "    last_city = X_[:, j]\n",
    "    \n",
    "    states = np.hstack((states, last_city.reshape(-1, 1)))\n",
    "    states_uq, cnt = np.unique(states, axis=0, return_counts=True)\n",
    "    # cntn = cnt / cnt.sum()\n",
    "    baseline = n_pareto_sol / states_uq.shape[0]\n",
    "    n_critical = (cnt >= baseline).sum()\n",
    "    \n",
    "    \n",
    "    layer = dd[i-1]    \n",
    "    for suq in states_uq:\n",
    "        state_found = False\n",
    "        for sdd in layer:\n",
    "            if np.array_equal(suq, sdd):\n",
    "                state_found = True\n",
    "                break\n",
    "        assert state_found\n",
    "        \n",
    "    n_pareto += len(states_uq)\n",
    "    n_nodes += len(layer)\n",
    "\n",
    "    print(f\"States: {len(layer)}, Pareto: {states_uq.shape[0]}, Critical: {n_critical}, Frac/Pareto: {states_uq.shape[0]/len(layer):.4f}, Frac/Critical: {n_critical/len(layer):.6f}\")\n"
   ]
  },
  {
   "cell_type": "code",
   "execution_count": 12,
   "metadata": {},
   "outputs": [
    {
     "data": {
      "text/plain": [
       "array([[1., 0., 0., 0., 0., 0., 0., 0., 0., 0., 0., 0., 0., 0., 0., 0.]])"
      ]
     },
     "execution_count": 12,
     "metadata": {},
     "output_type": "execute_result"
    }
   ],
   "source": [
    "states_uq"
   ]
  },
  {
   "cell_type": "code",
   "execution_count": null,
   "metadata": {},
   "outputs": [],
   "source": []
  }
 ],
 "metadata": {
  "kernelspec": {
   "display_name": "morbdd",
   "language": "python",
   "name": "python3"
  },
  "language_info": {
   "codemirror_mode": {
    "name": "ipython",
    "version": 3
   },
   "file_extension": ".py",
   "mimetype": "text/x-python",
   "name": "python",
   "nbconvert_exporter": "python",
   "pygments_lexer": "ipython3",
   "version": "3.8.20"
  }
 },
 "nbformat": 4,
 "nbformat_minor": 2
}
